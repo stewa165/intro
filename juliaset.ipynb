{
 "cells": [
  {
   "cell_type": "markdown",
   "metadata": {
    "collapsed": false
   },
   "source": [
    "# Julia Sets\n",
    "### Natalia Stewart"
   ]
  },
  {
   "cell_type": "code",
   "execution_count": 1,
   "metadata": {
    "collapsed": false
   },
   "outputs": [],
   "source": [
    "class JuliaSet(object):\n",
    "    def __init__(self, c, n=100):\n",
    "        self.c = c\n",
    "        self.n = n\n",
    "        self._d = 0.001\n",
    "        self._complexplane = []\n",
    "  \n",
    "    def juliamap(self, z):\n",
    "        return (z**2) + self.c\n",
    "    \n",
    "    def iterate(self, z):\n",
    "        m = 0    \n",
    "        while True:\n",
    "            z = self.juliamap(z)\n",
    "            m += 1\n",
    "            if abs(z) > 2:\n",
    "                return m\n",
    "            if m >= self.n:\n",
    "                return 0  \n",
    "            \n",
    "    def setcomplexplane(self):\n",
    "        numSteps = int(4.0/self._d)#+1\n",
    "        self.x = [-2+self._d*i for i in xrange(numSteps)]\n",
    "        self.y = self.x\n",
    "        self._complexplane = []\n",
    "        for x in self.x:\n",
    "            for y in self.y:\n",
    "                z = x + y*1j\n",
    "                self._complexplane.append(z)\n",
    "   \n",
    "    def set_spacing(self, d):\n",
    "        self._d = d\n",
    "        self.setcomplexplane()\n",
    "        \n",
    "    def generate(self):\n",
    "        self.set = []\n",
    "        for z in self._complexplane:\n",
    "            self.set.append(self.iterate(z))\n",
    "        return self.set"
   ]
  },
  {
   "cell_type": "code",
   "execution_count": null,
   "metadata": {
    "collapsed": true
   },
   "outputs": [],
   "source": []
  }
 ],
 "metadata": {
  "kernelspec": {
   "display_name": "Python 2",
   "language": "python",
   "name": "python2"
  },
  "language_info": {
   "codemirror_mode": {
    "name": "ipython",
    "version": 2
   },
   "file_extension": ".py",
   "mimetype": "text/x-python",
   "name": "python",
   "nbconvert_exporter": "python",
   "pygments_lexer": "ipython2",
   "version": "2.7.9"
  },
  "name": "juliaset.ipynb"
 },
 "nbformat": 4,
 "nbformat_minor": 0
}
