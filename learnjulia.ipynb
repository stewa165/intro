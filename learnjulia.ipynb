{
 "cells": [
  {
   "cell_type": "markdown",
   "metadata": {
    "collapsed": false
   },
   "source": [
    "# Learn Julia\n",
    "### Natalia Stewart, Lindy Astl"
   ]
  },
  {
   "cell_type": "markdown",
   "metadata": {},
   "source": [
    "1.\n",
    "#is used for comments\n",
    "#= is used for multiline comments\n",
    "= is used to declare variables\n",
    "println is used as the \"print output\""
   ]
  },
  {
   "cell_type": "code",
   "execution_count": null,
   "metadata": {
    "collapsed": true
   },
   "outputs": [],
   "source": [
    "#this is a comment"
   ]
  },
  {
   "cell_type": "code",
   "execution_count": null,
   "metadata": {
    "collapsed": true
   },
   "outputs": [],
   "source": [
    "#= this is \n",
    "a really long\n",
    "comment =#"
   ]
  },
  {
   "cell_type": "markdown",
   "metadata": {},
   "source": [
    "2.\n",
    "Julia Data Types:\n",
    "    Characters and Strings\n",
    "        Letters ('') or words (\"\")\n",
    "        Add, subtract, search or index, find length\n",
    "    Numbers\n",
    "        Can be integers, float numbers, complex, real, signed, unsigned\n",
    "        Can do all operations\n",
    "    Array\n",
    "        List of objects; No duplicates; Order matters\n",
    "        Can apply any operation to objects, splice, pop, push, remove, append\n",
    "    Dictionaries\n",
    "        Key-Value pairs, no order\n",
    "        Copy, sort, check, iterate\n",
    "    Sets\n",
    "        Collection of objects\n",
    "        Union, intersection, set difference, symmetric difference, find subset"
   ]
  },
  {
   "cell_type": "code",
   "execution_count": 10,
   "metadata": {
    "collapsed": false
   },
   "outputs": [],
   "source": [
    "chr = 'a'\n",
    "str = \"This is a sentence.\""
   ]
  },
  {
   "cell_type": "code",
   "execution_count": 14,
   "metadata": {
    "collapsed": false
   },
   "outputs": [],
   "source": [
    "int = 72"
   ]
  },
  {
   "cell_type": "code",
   "execution_count": null,
   "metadata": {
    "collapsed": true
   },
   "outputs": [],
   "source": []
  },
  {
   "cell_type": "code",
   "execution_count": null,
   "metadata": {
    "collapsed": false
   },
   "outputs": [],
   "source": []
  },
  {
   "cell_type": "markdown",
   "metadata": {},
   "source": [
    "3. Control Structures:\n",
    "    If Statement\n",
    "        If - Elseif - Else\n",
    "        ...\n",
    "        end\n",
    "    For Loop\n",
    "        NO COLONS!\n",
    "        ...\n",
    "        end\n",
    "    While Loop\n",
    "        NO COLONS!\n",
    "        ...\n",
    "        end\n"
   ]
  },
  {
   "cell_type": "code",
   "execution_count": null,
   "metadata": {
    "collapsed": true
   },
   "outputs": [],
   "source": [
    "4.\n",
    "Differences between Python and Julia:\n",
    "    No use of colons in Julia!\n",
    "    Using end in loops in Julia\n",
    "    println instead of print\n",
    "    elseif instead of elif\n",
    "    No classes with internal methods\n",
    "    Declaring data types using :: instead of =\n",
    "    Array indeces start at 0 in Python and 1 in Julia\n",
    "    Using ! with push and append in Julia vs. . in Python\n",
    "    Can't call [-1] index in Julia; use [end]\n",
    "    \n",
    "    \n",
    "\n",
    "Similarities between Python and Julia:\n",
    "    Same operations on each data type\n",
    "    "
   ]
  }
 ],
 "metadata": {
  "kernelspec": {
   "display_name": "Julia",
   "language": "julia",
   "name": "julia-0.4"
  },
  "language_info": {
   "file_extension": ".jl",
   "mimetype": "application/julia",
   "name": "julia",
   "version": "0.4.0"
  },
  "name": "learnjulia.ipynb"
 },
 "nbformat": 4,
 "nbformat_minor": 0
}
